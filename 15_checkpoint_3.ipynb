{
 "cells": [
  {
   "cell_type": "markdown",
   "metadata": {},
   "source": [
    "## Checkpoint 3 - PLN"
   ]
  },
  {
   "cell_type": "markdown",
   "metadata": {},
   "source": [
    "Fabio Rocha de Oliveira Lanfranchi - 87226"
   ]
  },
  {
   "cell_type": "markdown",
   "metadata": {},
   "source": [
    "### Problemática"
   ]
  },
  {
   "cell_type": "markdown",
   "metadata": {},
   "source": [
    "Nosso objetivo neste notebook é desenvolver um sistema que seja capaz de fazer recomendações para usuários da plataforma Crunchyroll. Essa recomendação será feita utilizando como base as informações de notas que os usuários dão para os animes assistidos."
   ]
  },
  {
   "cell_type": "markdown",
   "metadata": {},
   "source": [
    "Pensando neste problema, desenvolveremos um sistema de recomendação que utilizará o algoritmo K-NearestNeighbors, que, com referencia da menor distancia euclidiana entre os pontos, retornará para o usuário sugestões de séries. "
   ]
  },
  {
   "cell_type": "markdown",
   "metadata": {},
   "source": [
    "### Importação dos dados e análise exploratória"
   ]
  },
  {
   "cell_type": "code",
   "execution_count": 1,
   "metadata": {},
   "outputs": [],
   "source": [
    "import pandas as pd"
   ]
  },
  {
   "cell_type": "markdown",
   "metadata": {},
   "source": [
    "Serão utilizadas duas bases de dados, uma contendo os títulos e outra contendo as notas que os usuários forneceram para esses títulos."
   ]
  },
  {
   "cell_type": "code",
   "execution_count": 2,
   "metadata": {},
   "outputs": [],
   "source": [
    "# Alocando dfs\n",
    "df_title = pd.read_csv('C:\\\\Users\\\\f_lan\\\\Downloads\\\\anime_id_titles.csv.gz', compression='gzip')\n",
    "df_rating = pd.read_csv('C:\\\\Users\\\\f_lan\\\\Downloads\\\\anime_data.csv.gz', compression='gzip')"
   ]
  },
  {
   "cell_type": "code",
   "execution_count": 3,
   "metadata": {},
   "outputs": [
    {
     "data": {
      "text/html": [
       "<div>\n",
       "<style scoped>\n",
       "    .dataframe tbody tr th:only-of-type {\n",
       "        vertical-align: middle;\n",
       "    }\n",
       "\n",
       "    .dataframe tbody tr th {\n",
       "        vertical-align: top;\n",
       "    }\n",
       "\n",
       "    .dataframe thead th {\n",
       "        text-align: right;\n",
       "    }\n",
       "</style>\n",
       "<table border=\"1\" class=\"dataframe\">\n",
       "  <thead>\n",
       "    <tr style=\"text-align: right;\">\n",
       "      <th></th>\n",
       "      <th>item_id</th>\n",
       "      <th>title</th>\n",
       "    </tr>\n",
       "  </thead>\n",
       "  <tbody>\n",
       "    <tr>\n",
       "      <th>0</th>\n",
       "      <td>10</td>\n",
       "      <td>The Prince of Tennis</td>\n",
       "    </tr>\n",
       "    <tr>\n",
       "      <th>1</th>\n",
       "      <td>100</td>\n",
       "      <td>Neon Genesis Evangelion</td>\n",
       "    </tr>\n",
       "    <tr>\n",
       "      <th>2</th>\n",
       "      <td>1000</td>\n",
       "      <td>Full Metal Panic! The Second Raid</td>\n",
       "    </tr>\n",
       "    <tr>\n",
       "      <th>3</th>\n",
       "      <td>10000</td>\n",
       "      <td>22/7: Shampoo no Nioi ga Shita</td>\n",
       "    </tr>\n",
       "    <tr>\n",
       "      <th>4</th>\n",
       "      <td>10001</td>\n",
       "      <td>Oshiri Tantei: Puputto Fumutto Kaiketsu Dance</td>\n",
       "    </tr>\n",
       "  </tbody>\n",
       "</table>\n",
       "</div>"
      ],
      "text/plain": [
       "   item_id                                          title\n",
       "0       10                           The Prince of Tennis\n",
       "1      100                        Neon Genesis Evangelion\n",
       "2     1000              Full Metal Panic! The Second Raid\n",
       "3    10000                 22/7: Shampoo no Nioi ga Shita\n",
       "4    10001  Oshiri Tantei: Puputto Fumutto Kaiketsu Dance"
      ]
     },
     "execution_count": 3,
     "metadata": {},
     "output_type": "execute_result"
    }
   ],
   "source": [
    "# Printando primeiras linhas do df de titulos\n",
    "df_title.head()"
   ]
  },
  {
   "cell_type": "code",
   "execution_count": 4,
   "metadata": {},
   "outputs": [
    {
     "data": {
      "text/html": [
       "<div>\n",
       "<style scoped>\n",
       "    .dataframe tbody tr th:only-of-type {\n",
       "        vertical-align: middle;\n",
       "    }\n",
       "\n",
       "    .dataframe tbody tr th {\n",
       "        vertical-align: top;\n",
       "    }\n",
       "\n",
       "    .dataframe thead th {\n",
       "        text-align: right;\n",
       "    }\n",
       "</style>\n",
       "<table border=\"1\" class=\"dataframe\">\n",
       "  <thead>\n",
       "    <tr style=\"text-align: right;\">\n",
       "      <th></th>\n",
       "      <th>user_id</th>\n",
       "      <th>item_id</th>\n",
       "      <th>rating</th>\n",
       "    </tr>\n",
       "  </thead>\n",
       "  <tbody>\n",
       "    <tr>\n",
       "      <th>0</th>\n",
       "      <td>0</td>\n",
       "      <td>147</td>\n",
       "      <td>5.0</td>\n",
       "    </tr>\n",
       "    <tr>\n",
       "      <th>1</th>\n",
       "      <td>1</td>\n",
       "      <td>1512</td>\n",
       "      <td>4.5</td>\n",
       "    </tr>\n",
       "    <tr>\n",
       "      <th>2</th>\n",
       "      <td>1</td>\n",
       "      <td>599</td>\n",
       "      <td>4.0</td>\n",
       "    </tr>\n",
       "    <tr>\n",
       "      <th>3</th>\n",
       "      <td>1</td>\n",
       "      <td>2292</td>\n",
       "      <td>4.5</td>\n",
       "    </tr>\n",
       "    <tr>\n",
       "      <th>4</th>\n",
       "      <td>1</td>\n",
       "      <td>1078</td>\n",
       "      <td>3.0</td>\n",
       "    </tr>\n",
       "  </tbody>\n",
       "</table>\n",
       "</div>"
      ],
      "text/plain": [
       "   user_id  item_id  rating\n",
       "0        0      147     5.0\n",
       "1        1     1512     4.5\n",
       "2        1      599     4.0\n",
       "3        1     2292     4.5\n",
       "4        1     1078     3.0"
      ]
     },
     "execution_count": 4,
     "metadata": {},
     "output_type": "execute_result"
    }
   ],
   "source": [
    "# Printando primeiras linhas do df com as notas dos usuários\n",
    "df_rating.head()"
   ]
  },
  {
   "cell_type": "code",
   "execution_count": 5,
   "metadata": {},
   "outputs": [
    {
     "name": "stdout",
     "output_type": "stream",
     "text": [
      "(16621, 2)\n",
      "(8765945, 3)\n"
     ]
    }
   ],
   "source": [
    "# Verificando shape dos dfs\n",
    "print (df_title.shape)\n",
    "print (df_rating.shape)"
   ]
  },
  {
   "cell_type": "markdown",
   "metadata": {},
   "source": [
    "### Preparação dos dados"
   ]
  },
  {
   "cell_type": "markdown",
   "metadata": {},
   "source": [
    "Vamos concatenar as bases de dados, fazendo um inner join na coluna item_id"
   ]
  },
  {
   "cell_type": "code",
   "execution_count": 6,
   "metadata": {},
   "outputs": [
    {
     "data": {
      "text/html": [
       "<div>\n",
       "<style scoped>\n",
       "    .dataframe tbody tr th:only-of-type {\n",
       "        vertical-align: middle;\n",
       "    }\n",
       "\n",
       "    .dataframe tbody tr th {\n",
       "        vertical-align: top;\n",
       "    }\n",
       "\n",
       "    .dataframe thead th {\n",
       "        text-align: right;\n",
       "    }\n",
       "</style>\n",
       "<table border=\"1\" class=\"dataframe\">\n",
       "  <thead>\n",
       "    <tr style=\"text-align: right;\">\n",
       "      <th></th>\n",
       "      <th>item_id</th>\n",
       "      <th>title</th>\n",
       "      <th>user_id</th>\n",
       "      <th>rating</th>\n",
       "    </tr>\n",
       "  </thead>\n",
       "  <tbody>\n",
       "    <tr>\n",
       "      <th>0</th>\n",
       "      <td>10</td>\n",
       "      <td>The Prince of Tennis</td>\n",
       "      <td>34</td>\n",
       "      <td>4.0</td>\n",
       "    </tr>\n",
       "    <tr>\n",
       "      <th>1</th>\n",
       "      <td>10</td>\n",
       "      <td>The Prince of Tennis</td>\n",
       "      <td>106</td>\n",
       "      <td>5.0</td>\n",
       "    </tr>\n",
       "    <tr>\n",
       "      <th>2</th>\n",
       "      <td>10</td>\n",
       "      <td>The Prince of Tennis</td>\n",
       "      <td>132</td>\n",
       "      <td>4.5</td>\n",
       "    </tr>\n",
       "    <tr>\n",
       "      <th>3</th>\n",
       "      <td>10</td>\n",
       "      <td>The Prince of Tennis</td>\n",
       "      <td>212</td>\n",
       "      <td>4.5</td>\n",
       "    </tr>\n",
       "    <tr>\n",
       "      <th>4</th>\n",
       "      <td>10</td>\n",
       "      <td>The Prince of Tennis</td>\n",
       "      <td>247</td>\n",
       "      <td>4.5</td>\n",
       "    </tr>\n",
       "  </tbody>\n",
       "</table>\n",
       "</div>"
      ],
      "text/plain": [
       "   item_id                 title  user_id  rating\n",
       "0       10  The Prince of Tennis       34     4.0\n",
       "1       10  The Prince of Tennis      106     5.0\n",
       "2       10  The Prince of Tennis      132     4.5\n",
       "3       10  The Prince of Tennis      212     4.5\n",
       "4       10  The Prince of Tennis      247     4.5"
      ]
     },
     "execution_count": 6,
     "metadata": {},
     "output_type": "execute_result"
    }
   ],
   "source": [
    "# Concatenando os dfs\n",
    "df = pd.merge(df_title, df_rating, on= 'item_id')\n",
    "df.head()"
   ]
  },
  {
   "cell_type": "markdown",
   "metadata": {},
   "source": [
    "A seguir, pivotaremos o dataset para conseguir uma visão das notas individuais de cada usuário para cada série de anime. Para as séries que não tiverem votos por determinado usuário assumiremos o valor 0."
   ]
  },
  {
   "cell_type": "code",
   "execution_count": 7,
   "metadata": {},
   "outputs": [
    {
     "data": {
      "text/html": [
       "<div>\n",
       "<style scoped>\n",
       "    .dataframe tbody tr th:only-of-type {\n",
       "        vertical-align: middle;\n",
       "    }\n",
       "\n",
       "    .dataframe tbody tr th {\n",
       "        vertical-align: top;\n",
       "    }\n",
       "\n",
       "    .dataframe thead th {\n",
       "        text-align: right;\n",
       "    }\n",
       "</style>\n",
       "<table border=\"1\" class=\"dataframe\">\n",
       "  <thead>\n",
       "    <tr style=\"text-align: right;\">\n",
       "      <th>title</th>\n",
       "      <th>\"Bungaku Shoujo\" Kyou no Oyatsu: Hatsukoi</th>\n",
       "      <th>\"Bungaku Shoujo\" Memoire</th>\n",
       "      <th>\"Bungaku Shoujo\" Movie</th>\n",
       "      <th>\"Eiji\"</th>\n",
       "      <th>\"Eikou Naki Tensai-tachi\" Kara no Monogatari</th>\n",
       "      <th>\"Eiyuu\" Kaitai</th>\n",
       "      <th>\"Kiss Dekiru Gyoza\" x Mameshiba Movie</th>\n",
       "      <th>\"Parade\" de Satie</th>\n",
       "      <th>\"hitman\" bang: I=Fantasy</th>\n",
       "      <th>(K)NoW_NAME: Harvest</th>\n",
       "      <th>...</th>\n",
       "      <th>xxxHOLiC Shunmuki</th>\n",
       "      <th>y0c1e: To Dimension</th>\n",
       "      <th>yama: Arui wa Eiga no You na</th>\n",
       "      <th>yama: Masshiro</th>\n",
       "      <th>your name.</th>\n",
       "      <th>yourness: Kago no Naka ni Tori</th>\n",
       "      <th>zap dog</th>\n",
       "      <th>Üks Uks</th>\n",
       "      <th>ēlDLIVE</th>\n",
       "      <th>∞</th>\n",
       "    </tr>\n",
       "    <tr>\n",
       "      <th>user_id</th>\n",
       "      <th></th>\n",
       "      <th></th>\n",
       "      <th></th>\n",
       "      <th></th>\n",
       "      <th></th>\n",
       "      <th></th>\n",
       "      <th></th>\n",
       "      <th></th>\n",
       "      <th></th>\n",
       "      <th></th>\n",
       "      <th></th>\n",
       "      <th></th>\n",
       "      <th></th>\n",
       "      <th></th>\n",
       "      <th></th>\n",
       "      <th></th>\n",
       "      <th></th>\n",
       "      <th></th>\n",
       "      <th></th>\n",
       "      <th></th>\n",
       "      <th></th>\n",
       "    </tr>\n",
       "  </thead>\n",
       "  <tbody>\n",
       "    <tr>\n",
       "      <th>0</th>\n",
       "      <td>0.0</td>\n",
       "      <td>0.0</td>\n",
       "      <td>0.0</td>\n",
       "      <td>0.0</td>\n",
       "      <td>0.0</td>\n",
       "      <td>0.0</td>\n",
       "      <td>0.0</td>\n",
       "      <td>0.0</td>\n",
       "      <td>0.0</td>\n",
       "      <td>0.0</td>\n",
       "      <td>...</td>\n",
       "      <td>0.0</td>\n",
       "      <td>0.0</td>\n",
       "      <td>0.0</td>\n",
       "      <td>0.0</td>\n",
       "      <td>0.0</td>\n",
       "      <td>0.0</td>\n",
       "      <td>0.0</td>\n",
       "      <td>0.0</td>\n",
       "      <td>0.0</td>\n",
       "      <td>0.0</td>\n",
       "    </tr>\n",
       "    <tr>\n",
       "      <th>1</th>\n",
       "      <td>0.0</td>\n",
       "      <td>0.0</td>\n",
       "      <td>0.0</td>\n",
       "      <td>0.0</td>\n",
       "      <td>0.0</td>\n",
       "      <td>0.0</td>\n",
       "      <td>0.0</td>\n",
       "      <td>0.0</td>\n",
       "      <td>0.0</td>\n",
       "      <td>0.0</td>\n",
       "      <td>...</td>\n",
       "      <td>0.0</td>\n",
       "      <td>0.0</td>\n",
       "      <td>0.0</td>\n",
       "      <td>0.0</td>\n",
       "      <td>0.0</td>\n",
       "      <td>0.0</td>\n",
       "      <td>0.0</td>\n",
       "      <td>0.0</td>\n",
       "      <td>0.0</td>\n",
       "      <td>0.0</td>\n",
       "    </tr>\n",
       "    <tr>\n",
       "      <th>2</th>\n",
       "      <td>0.0</td>\n",
       "      <td>0.0</td>\n",
       "      <td>0.0</td>\n",
       "      <td>0.0</td>\n",
       "      <td>0.0</td>\n",
       "      <td>0.0</td>\n",
       "      <td>0.0</td>\n",
       "      <td>0.0</td>\n",
       "      <td>0.0</td>\n",
       "      <td>0.0</td>\n",
       "      <td>...</td>\n",
       "      <td>0.0</td>\n",
       "      <td>0.0</td>\n",
       "      <td>0.0</td>\n",
       "      <td>0.0</td>\n",
       "      <td>3.0</td>\n",
       "      <td>0.0</td>\n",
       "      <td>0.0</td>\n",
       "      <td>0.0</td>\n",
       "      <td>0.0</td>\n",
       "      <td>0.0</td>\n",
       "    </tr>\n",
       "    <tr>\n",
       "      <th>3</th>\n",
       "      <td>0.0</td>\n",
       "      <td>0.0</td>\n",
       "      <td>0.0</td>\n",
       "      <td>0.0</td>\n",
       "      <td>0.0</td>\n",
       "      <td>0.0</td>\n",
       "      <td>0.0</td>\n",
       "      <td>0.0</td>\n",
       "      <td>0.0</td>\n",
       "      <td>0.0</td>\n",
       "      <td>...</td>\n",
       "      <td>0.0</td>\n",
       "      <td>0.0</td>\n",
       "      <td>0.0</td>\n",
       "      <td>0.0</td>\n",
       "      <td>5.0</td>\n",
       "      <td>0.0</td>\n",
       "      <td>0.0</td>\n",
       "      <td>0.0</td>\n",
       "      <td>0.0</td>\n",
       "      <td>0.0</td>\n",
       "    </tr>\n",
       "    <tr>\n",
       "      <th>4</th>\n",
       "      <td>0.0</td>\n",
       "      <td>0.0</td>\n",
       "      <td>0.0</td>\n",
       "      <td>0.0</td>\n",
       "      <td>0.0</td>\n",
       "      <td>0.0</td>\n",
       "      <td>0.0</td>\n",
       "      <td>0.0</td>\n",
       "      <td>0.0</td>\n",
       "      <td>0.0</td>\n",
       "      <td>...</td>\n",
       "      <td>0.0</td>\n",
       "      <td>0.0</td>\n",
       "      <td>0.0</td>\n",
       "      <td>0.0</td>\n",
       "      <td>0.0</td>\n",
       "      <td>0.0</td>\n",
       "      <td>0.0</td>\n",
       "      <td>0.0</td>\n",
       "      <td>0.0</td>\n",
       "      <td>0.0</td>\n",
       "    </tr>\n",
       "    <tr>\n",
       "      <th>5</th>\n",
       "      <td>0.0</td>\n",
       "      <td>0.0</td>\n",
       "      <td>0.0</td>\n",
       "      <td>0.0</td>\n",
       "      <td>0.0</td>\n",
       "      <td>0.0</td>\n",
       "      <td>0.0</td>\n",
       "      <td>0.0</td>\n",
       "      <td>0.0</td>\n",
       "      <td>0.0</td>\n",
       "      <td>...</td>\n",
       "      <td>0.0</td>\n",
       "      <td>0.0</td>\n",
       "      <td>0.0</td>\n",
       "      <td>0.0</td>\n",
       "      <td>0.0</td>\n",
       "      <td>0.0</td>\n",
       "      <td>0.0</td>\n",
       "      <td>0.0</td>\n",
       "      <td>0.0</td>\n",
       "      <td>0.0</td>\n",
       "    </tr>\n",
       "    <tr>\n",
       "      <th>6</th>\n",
       "      <td>0.0</td>\n",
       "      <td>0.0</td>\n",
       "      <td>3.5</td>\n",
       "      <td>0.0</td>\n",
       "      <td>0.0</td>\n",
       "      <td>0.0</td>\n",
       "      <td>0.0</td>\n",
       "      <td>0.0</td>\n",
       "      <td>0.0</td>\n",
       "      <td>0.0</td>\n",
       "      <td>...</td>\n",
       "      <td>4.0</td>\n",
       "      <td>0.0</td>\n",
       "      <td>0.0</td>\n",
       "      <td>0.0</td>\n",
       "      <td>5.0</td>\n",
       "      <td>0.0</td>\n",
       "      <td>0.0</td>\n",
       "      <td>0.0</td>\n",
       "      <td>0.0</td>\n",
       "      <td>0.0</td>\n",
       "    </tr>\n",
       "    <tr>\n",
       "      <th>7</th>\n",
       "      <td>0.0</td>\n",
       "      <td>0.0</td>\n",
       "      <td>0.0</td>\n",
       "      <td>0.0</td>\n",
       "      <td>0.0</td>\n",
       "      <td>0.0</td>\n",
       "      <td>0.0</td>\n",
       "      <td>0.0</td>\n",
       "      <td>0.0</td>\n",
       "      <td>0.0</td>\n",
       "      <td>...</td>\n",
       "      <td>0.0</td>\n",
       "      <td>0.0</td>\n",
       "      <td>0.0</td>\n",
       "      <td>0.0</td>\n",
       "      <td>0.0</td>\n",
       "      <td>0.0</td>\n",
       "      <td>0.0</td>\n",
       "      <td>0.0</td>\n",
       "      <td>0.0</td>\n",
       "      <td>0.0</td>\n",
       "    </tr>\n",
       "    <tr>\n",
       "      <th>8</th>\n",
       "      <td>0.0</td>\n",
       "      <td>0.0</td>\n",
       "      <td>0.0</td>\n",
       "      <td>0.0</td>\n",
       "      <td>0.0</td>\n",
       "      <td>0.0</td>\n",
       "      <td>0.0</td>\n",
       "      <td>0.0</td>\n",
       "      <td>0.0</td>\n",
       "      <td>0.0</td>\n",
       "      <td>...</td>\n",
       "      <td>3.0</td>\n",
       "      <td>0.0</td>\n",
       "      <td>0.0</td>\n",
       "      <td>0.0</td>\n",
       "      <td>5.0</td>\n",
       "      <td>0.0</td>\n",
       "      <td>0.0</td>\n",
       "      <td>0.0</td>\n",
       "      <td>0.0</td>\n",
       "      <td>0.0</td>\n",
       "    </tr>\n",
       "    <tr>\n",
       "      <th>9</th>\n",
       "      <td>0.0</td>\n",
       "      <td>0.0</td>\n",
       "      <td>0.0</td>\n",
       "      <td>0.0</td>\n",
       "      <td>0.0</td>\n",
       "      <td>0.0</td>\n",
       "      <td>0.0</td>\n",
       "      <td>0.0</td>\n",
       "      <td>0.0</td>\n",
       "      <td>0.0</td>\n",
       "      <td>...</td>\n",
       "      <td>0.0</td>\n",
       "      <td>0.0</td>\n",
       "      <td>0.0</td>\n",
       "      <td>0.0</td>\n",
       "      <td>0.0</td>\n",
       "      <td>0.0</td>\n",
       "      <td>0.0</td>\n",
       "      <td>0.0</td>\n",
       "      <td>0.0</td>\n",
       "      <td>0.0</td>\n",
       "    </tr>\n",
       "  </tbody>\n",
       "</table>\n",
       "<p>10 rows × 15657 columns</p>\n",
       "</div>"
      ],
      "text/plain": [
       "title    \"Bungaku Shoujo\" Kyou no Oyatsu: Hatsukoi  \"Bungaku Shoujo\" Memoire  \\\n",
       "user_id                                                                        \n",
       "0                                              0.0                       0.0   \n",
       "1                                              0.0                       0.0   \n",
       "2                                              0.0                       0.0   \n",
       "3                                              0.0                       0.0   \n",
       "4                                              0.0                       0.0   \n",
       "5                                              0.0                       0.0   \n",
       "6                                              0.0                       0.0   \n",
       "7                                              0.0                       0.0   \n",
       "8                                              0.0                       0.0   \n",
       "9                                              0.0                       0.0   \n",
       "\n",
       "title    \"Bungaku Shoujo\" Movie  \"Eiji\"  \\\n",
       "user_id                                   \n",
       "0                           0.0     0.0   \n",
       "1                           0.0     0.0   \n",
       "2                           0.0     0.0   \n",
       "3                           0.0     0.0   \n",
       "4                           0.0     0.0   \n",
       "5                           0.0     0.0   \n",
       "6                           3.5     0.0   \n",
       "7                           0.0     0.0   \n",
       "8                           0.0     0.0   \n",
       "9                           0.0     0.0   \n",
       "\n",
       "title    \"Eikou Naki Tensai-tachi\" Kara no Monogatari  \"Eiyuu\" Kaitai  \\\n",
       "user_id                                                                 \n",
       "0                                                 0.0             0.0   \n",
       "1                                                 0.0             0.0   \n",
       "2                                                 0.0             0.0   \n",
       "3                                                 0.0             0.0   \n",
       "4                                                 0.0             0.0   \n",
       "5                                                 0.0             0.0   \n",
       "6                                                 0.0             0.0   \n",
       "7                                                 0.0             0.0   \n",
       "8                                                 0.0             0.0   \n",
       "9                                                 0.0             0.0   \n",
       "\n",
       "title    \"Kiss Dekiru Gyoza\" x Mameshiba Movie  \"Parade\" de Satie  \\\n",
       "user_id                                                             \n",
       "0                                          0.0                0.0   \n",
       "1                                          0.0                0.0   \n",
       "2                                          0.0                0.0   \n",
       "3                                          0.0                0.0   \n",
       "4                                          0.0                0.0   \n",
       "5                                          0.0                0.0   \n",
       "6                                          0.0                0.0   \n",
       "7                                          0.0                0.0   \n",
       "8                                          0.0                0.0   \n",
       "9                                          0.0                0.0   \n",
       "\n",
       "title    \"hitman\" bang: I=Fantasy  (K)NoW_NAME: Harvest  ...  \\\n",
       "user_id                                                  ...   \n",
       "0                             0.0                   0.0  ...   \n",
       "1                             0.0                   0.0  ...   \n",
       "2                             0.0                   0.0  ...   \n",
       "3                             0.0                   0.0  ...   \n",
       "4                             0.0                   0.0  ...   \n",
       "5                             0.0                   0.0  ...   \n",
       "6                             0.0                   0.0  ...   \n",
       "7                             0.0                   0.0  ...   \n",
       "8                             0.0                   0.0  ...   \n",
       "9                             0.0                   0.0  ...   \n",
       "\n",
       "title    xxxHOLiC Shunmuki  y0c1e: To Dimension  yama: Arui wa Eiga no You na  \\\n",
       "user_id                                                                         \n",
       "0                      0.0                  0.0                           0.0   \n",
       "1                      0.0                  0.0                           0.0   \n",
       "2                      0.0                  0.0                           0.0   \n",
       "3                      0.0                  0.0                           0.0   \n",
       "4                      0.0                  0.0                           0.0   \n",
       "5                      0.0                  0.0                           0.0   \n",
       "6                      4.0                  0.0                           0.0   \n",
       "7                      0.0                  0.0                           0.0   \n",
       "8                      3.0                  0.0                           0.0   \n",
       "9                      0.0                  0.0                           0.0   \n",
       "\n",
       "title    yama: Masshiro  your name.  yourness: Kago no Naka ni Tori  zap dog  \\\n",
       "user_id                                                                        \n",
       "0                   0.0         0.0                             0.0      0.0   \n",
       "1                   0.0         0.0                             0.0      0.0   \n",
       "2                   0.0         3.0                             0.0      0.0   \n",
       "3                   0.0         5.0                             0.0      0.0   \n",
       "4                   0.0         0.0                             0.0      0.0   \n",
       "5                   0.0         0.0                             0.0      0.0   \n",
       "6                   0.0         5.0                             0.0      0.0   \n",
       "7                   0.0         0.0                             0.0      0.0   \n",
       "8                   0.0         5.0                             0.0      0.0   \n",
       "9                   0.0         0.0                             0.0      0.0   \n",
       "\n",
       "title    Üks Uks  ēlDLIVE    ∞  \n",
       "user_id                         \n",
       "0            0.0      0.0  0.0  \n",
       "1            0.0      0.0  0.0  \n",
       "2            0.0      0.0  0.0  \n",
       "3            0.0      0.0  0.0  \n",
       "4            0.0      0.0  0.0  \n",
       "5            0.0      0.0  0.0  \n",
       "6            0.0      0.0  0.0  \n",
       "7            0.0      0.0  0.0  \n",
       "8            0.0      0.0  0.0  \n",
       "9            0.0      0.0  0.0  \n",
       "\n",
       "[10 rows x 15657 columns]"
      ]
     },
     "execution_count": 7,
     "metadata": {},
     "output_type": "execute_result"
    }
   ],
   "source": [
    "# Pivotando o df final\n",
    "df_pivot = df.pivot_table(columns='title', index='user_id', values='rating').fillna(0)\n",
    "df_pivot.head(10)"
   ]
  },
  {
   "cell_type": "markdown",
   "metadata": {},
   "source": [
    "### Escolha do algoritmo e treinamento dos dados"
   ]
  },
  {
   "cell_type": "markdown",
   "metadata": {},
   "source": [
    "Como temos muitos dados, vamos criar uma matriz esparsa que facilitará o treinamento dos dados"
   ]
  },
  {
   "cell_type": "code",
   "execution_count": 8,
   "metadata": {},
   "outputs": [],
   "source": [
    "from scipy.sparse import csr_matrix\n",
    "df_sparse = csr_matrix(df_pivot)"
   ]
  },
  {
   "cell_type": "markdown",
   "metadata": {},
   "source": [
    "Para o nosso estudo, utilizaremos o algoritmo NearestNeighbors"
   ]
  },
  {
   "cell_type": "code",
   "execution_count": 9,
   "metadata": {},
   "outputs": [
    {
     "data": {
      "text/plain": [
       "NearestNeighbors()"
      ]
     },
     "execution_count": 9,
     "metadata": {},
     "output_type": "execute_result"
    }
   ],
   "source": [
    "from sklearn.neighbors import NearestNeighbors\n",
    "knn = NearestNeighbors()\n",
    "knn.fit(df_sparse)"
   ]
  },
  {
   "cell_type": "markdown",
   "metadata": {},
   "source": [
    "### Verificando resultados"
   ]
  },
  {
   "cell_type": "markdown",
   "metadata": {},
   "source": [
    "A seguir iremos testar a máquina preditiva. Para isso, pegamos um usuário ao acaso, neste exemplo, o usuário 10"
   ]
  },
  {
   "cell_type": "code",
   "execution_count": 10,
   "metadata": {},
   "outputs": [],
   "source": [
    "# Testando\n",
    "\n",
    "index_user = 10\n",
    "dist, index_ngbr = knn.kneighbors(df_pivot.iloc[index_user].values.reshape(1,-1), n_neighbors=3)"
   ]
  },
  {
   "cell_type": "code",
   "execution_count": 11,
   "metadata": {},
   "outputs": [
    {
     "data": {
      "text/plain": [
       "array([[ 0.        , 64.75916923, 64.86717197]])"
      ]
     },
     "execution_count": 11,
     "metadata": {},
     "output_type": "execute_result"
    }
   ],
   "source": [
    "# Verificando a distancia entre os vizinhos\n",
    "dist"
   ]
  },
  {
   "cell_type": "code",
   "execution_count": 12,
   "metadata": {},
   "outputs": [
    {
     "data": {
      "text/plain": [
       "array([[   10, 50974, 11415]], dtype=int64)"
      ]
     },
     "execution_count": 12,
     "metadata": {},
     "output_type": "execute_result"
    }
   ],
   "source": [
    "# Verificando quais são os indices dos usuários vizinhos\n",
    "index_ngbr"
   ]
  },
  {
   "cell_type": "code",
   "execution_count": 13,
   "metadata": {},
   "outputs": [
    {
     "name": "stdout",
     "output_type": "stream",
     "text": [
      "Usuário: 10\n",
      "Vizinho 59265 com distancia de 64.75916923494309\n",
      "Vizinho 13213 com distancia de 64.8671719747362\n"
     ]
    }
   ],
   "source": [
    "# Comparando resultados\n",
    "user = df_pivot.index[index_user]\n",
    "\n",
    "for i in range(0, len(dist.flatten())):\n",
    "    if i == 0:\n",
    "        print (f'Usuário: {user}')\n",
    "    else:\n",
    "        print (f'Vizinho {df_pivot.index[index_ngbr.flatten()[i]]} com distancia de {dist.flatten()[i]}')"
   ]
  },
  {
   "cell_type": "markdown",
   "metadata": {},
   "source": [
    "Ou seja, vamos pegar o usuário mais proximo (nesse caso, o 59265), e utilizaremos as suas preferencias para fazer sugestões para o usuário 10"
   ]
  },
  {
   "cell_type": "markdown",
   "metadata": {},
   "source": [
    "### Comparação de usuário target com K vizinho mais próximo"
   ]
  },
  {
   "cell_type": "code",
   "execution_count": 14,
   "metadata": {},
   "outputs": [],
   "source": [
    "# Criando df para o usuário 10\n",
    "df_compara = df_pivot.loc[user].to_frame()\n",
    "\n",
    "# Criando df para o usuário 59265\n",
    "viz_prox = df_pivot.index[index_ngbr.flatten()[1]]\n",
    "ds_vizinho = df_pivot.loc[viz_prox].to_frame()"
   ]
  },
  {
   "cell_type": "markdown",
   "metadata": {},
   "source": [
    "Dataset contendo as notas postadas pelo usuário 10"
   ]
  },
  {
   "cell_type": "code",
   "execution_count": 15,
   "metadata": {},
   "outputs": [
    {
     "data": {
      "text/html": [
       "<div>\n",
       "<style scoped>\n",
       "    .dataframe tbody tr th:only-of-type {\n",
       "        vertical-align: middle;\n",
       "    }\n",
       "\n",
       "    .dataframe tbody tr th {\n",
       "        vertical-align: top;\n",
       "    }\n",
       "\n",
       "    .dataframe thead th {\n",
       "        text-align: right;\n",
       "    }\n",
       "</style>\n",
       "<table border=\"1\" class=\"dataframe\">\n",
       "  <thead>\n",
       "    <tr style=\"text-align: right;\">\n",
       "      <th></th>\n",
       "      <th>10</th>\n",
       "    </tr>\n",
       "    <tr>\n",
       "      <th>title</th>\n",
       "      <th></th>\n",
       "    </tr>\n",
       "  </thead>\n",
       "  <tbody>\n",
       "    <tr>\n",
       "      <th>\"Bungaku Shoujo\" Kyou no Oyatsu: Hatsukoi</th>\n",
       "      <td>0.0</td>\n",
       "    </tr>\n",
       "    <tr>\n",
       "      <th>\"Bungaku Shoujo\" Memoire</th>\n",
       "      <td>0.0</td>\n",
       "    </tr>\n",
       "    <tr>\n",
       "      <th>\"Bungaku Shoujo\" Movie</th>\n",
       "      <td>0.0</td>\n",
       "    </tr>\n",
       "    <tr>\n",
       "      <th>\"Eiji\"</th>\n",
       "      <td>0.0</td>\n",
       "    </tr>\n",
       "    <tr>\n",
       "      <th>\"Eikou Naki Tensai-tachi\" Kara no Monogatari</th>\n",
       "      <td>0.0</td>\n",
       "    </tr>\n",
       "    <tr>\n",
       "      <th>...</th>\n",
       "      <td>...</td>\n",
       "    </tr>\n",
       "    <tr>\n",
       "      <th>yourness: Kago no Naka ni Tori</th>\n",
       "      <td>0.0</td>\n",
       "    </tr>\n",
       "    <tr>\n",
       "      <th>zap dog</th>\n",
       "      <td>0.0</td>\n",
       "    </tr>\n",
       "    <tr>\n",
       "      <th>Üks Uks</th>\n",
       "      <td>0.0</td>\n",
       "    </tr>\n",
       "    <tr>\n",
       "      <th>ēlDLIVE</th>\n",
       "      <td>0.0</td>\n",
       "    </tr>\n",
       "    <tr>\n",
       "      <th>∞</th>\n",
       "      <td>0.0</td>\n",
       "    </tr>\n",
       "  </tbody>\n",
       "</table>\n",
       "<p>15657 rows × 1 columns</p>\n",
       "</div>"
      ],
      "text/plain": [
       "                                               10\n",
       "title                                            \n",
       "\"Bungaku Shoujo\" Kyou no Oyatsu: Hatsukoi     0.0\n",
       "\"Bungaku Shoujo\" Memoire                      0.0\n",
       "\"Bungaku Shoujo\" Movie                        0.0\n",
       "\"Eiji\"                                        0.0\n",
       "\"Eikou Naki Tensai-tachi\" Kara no Monogatari  0.0\n",
       "...                                           ...\n",
       "yourness: Kago no Naka ni Tori                0.0\n",
       "zap dog                                       0.0\n",
       "Üks Uks                                       0.0\n",
       "ēlDLIVE                                       0.0\n",
       "∞                                             0.0\n",
       "\n",
       "[15657 rows x 1 columns]"
      ]
     },
     "execution_count": 15,
     "metadata": {},
     "output_type": "execute_result"
    }
   ],
   "source": [
    "df_compara"
   ]
  },
  {
   "cell_type": "markdown",
   "metadata": {},
   "source": [
    "Dataset contendo as notas postadas pelo usuário 59265"
   ]
  },
  {
   "cell_type": "code",
   "execution_count": 16,
   "metadata": {},
   "outputs": [
    {
     "data": {
      "text/html": [
       "<div>\n",
       "<style scoped>\n",
       "    .dataframe tbody tr th:only-of-type {\n",
       "        vertical-align: middle;\n",
       "    }\n",
       "\n",
       "    .dataframe tbody tr th {\n",
       "        vertical-align: top;\n",
       "    }\n",
       "\n",
       "    .dataframe thead th {\n",
       "        text-align: right;\n",
       "    }\n",
       "</style>\n",
       "<table border=\"1\" class=\"dataframe\">\n",
       "  <thead>\n",
       "    <tr style=\"text-align: right;\">\n",
       "      <th></th>\n",
       "      <th>59265</th>\n",
       "    </tr>\n",
       "    <tr>\n",
       "      <th>title</th>\n",
       "      <th></th>\n",
       "    </tr>\n",
       "  </thead>\n",
       "  <tbody>\n",
       "    <tr>\n",
       "      <th>\"Bungaku Shoujo\" Kyou no Oyatsu: Hatsukoi</th>\n",
       "      <td>0.0</td>\n",
       "    </tr>\n",
       "    <tr>\n",
       "      <th>\"Bungaku Shoujo\" Memoire</th>\n",
       "      <td>0.0</td>\n",
       "    </tr>\n",
       "    <tr>\n",
       "      <th>\"Bungaku Shoujo\" Movie</th>\n",
       "      <td>0.0</td>\n",
       "    </tr>\n",
       "    <tr>\n",
       "      <th>\"Eiji\"</th>\n",
       "      <td>0.0</td>\n",
       "    </tr>\n",
       "    <tr>\n",
       "      <th>\"Eikou Naki Tensai-tachi\" Kara no Monogatari</th>\n",
       "      <td>0.0</td>\n",
       "    </tr>\n",
       "    <tr>\n",
       "      <th>...</th>\n",
       "      <td>...</td>\n",
       "    </tr>\n",
       "    <tr>\n",
       "      <th>yourness: Kago no Naka ni Tori</th>\n",
       "      <td>0.0</td>\n",
       "    </tr>\n",
       "    <tr>\n",
       "      <th>zap dog</th>\n",
       "      <td>0.0</td>\n",
       "    </tr>\n",
       "    <tr>\n",
       "      <th>Üks Uks</th>\n",
       "      <td>0.0</td>\n",
       "    </tr>\n",
       "    <tr>\n",
       "      <th>ēlDLIVE</th>\n",
       "      <td>0.0</td>\n",
       "    </tr>\n",
       "    <tr>\n",
       "      <th>∞</th>\n",
       "      <td>0.0</td>\n",
       "    </tr>\n",
       "  </tbody>\n",
       "</table>\n",
       "<p>15657 rows × 1 columns</p>\n",
       "</div>"
      ],
      "text/plain": [
       "                                              59265\n",
       "title                                              \n",
       "\"Bungaku Shoujo\" Kyou no Oyatsu: Hatsukoi       0.0\n",
       "\"Bungaku Shoujo\" Memoire                        0.0\n",
       "\"Bungaku Shoujo\" Movie                          0.0\n",
       "\"Eiji\"                                          0.0\n",
       "\"Eikou Naki Tensai-tachi\" Kara no Monogatari    0.0\n",
       "...                                             ...\n",
       "yourness: Kago no Naka ni Tori                  0.0\n",
       "zap dog                                         0.0\n",
       "Üks Uks                                         0.0\n",
       "ēlDLIVE                                         0.0\n",
       "∞                                               0.0\n",
       "\n",
       "[15657 rows x 1 columns]"
      ]
     },
     "execution_count": 16,
     "metadata": {},
     "output_type": "execute_result"
    }
   ],
   "source": [
    "ds_vizinho"
   ]
  },
  {
   "cell_type": "markdown",
   "metadata": {},
   "source": [
    "Abaixo, visualizaremos uma comparação das notas entre os usuários 10 e 59265"
   ]
  },
  {
   "cell_type": "code",
   "execution_count": 17,
   "metadata": {},
   "outputs": [
    {
     "data": {
      "text/html": [
       "<div>\n",
       "<style scoped>\n",
       "    .dataframe tbody tr th:only-of-type {\n",
       "        vertical-align: middle;\n",
       "    }\n",
       "\n",
       "    .dataframe tbody tr th {\n",
       "        vertical-align: top;\n",
       "    }\n",
       "\n",
       "    .dataframe thead th {\n",
       "        text-align: right;\n",
       "    }\n",
       "</style>\n",
       "<table border=\"1\" class=\"dataframe\">\n",
       "  <thead>\n",
       "    <tr style=\"text-align: right;\">\n",
       "      <th></th>\n",
       "      <th>10</th>\n",
       "      <th>59265</th>\n",
       "    </tr>\n",
       "    <tr>\n",
       "      <th>title</th>\n",
       "      <th></th>\n",
       "      <th></th>\n",
       "    </tr>\n",
       "  </thead>\n",
       "  <tbody>\n",
       "    <tr>\n",
       "      <th>Kill Bill Chapter 3: The Origin of O-Ren</th>\n",
       "      <td>0.0</td>\n",
       "      <td>5.0</td>\n",
       "    </tr>\n",
       "    <tr>\n",
       "      <th>The Girl Who Leapt Through Time</th>\n",
       "      <td>3.5</td>\n",
       "      <td>5.0</td>\n",
       "    </tr>\n",
       "    <tr>\n",
       "      <th>Fullmetal Alchemist The Movie: Conqueror of Shamballa</th>\n",
       "      <td>3.5</td>\n",
       "      <td>5.0</td>\n",
       "    </tr>\n",
       "    <tr>\n",
       "      <th>The Disappearance of Haruhi Suzumiya</th>\n",
       "      <td>4.0</td>\n",
       "      <td>5.0</td>\n",
       "    </tr>\n",
       "    <tr>\n",
       "      <th>Cowboy Bebop</th>\n",
       "      <td>4.5</td>\n",
       "      <td>5.0</td>\n",
       "    </tr>\n",
       "    <tr>\n",
       "      <th>...</th>\n",
       "      <td>...</td>\n",
       "      <td>...</td>\n",
       "    </tr>\n",
       "    <tr>\n",
       "      <th>Hi-sCool! Seha Girls Special</th>\n",
       "      <td>0.0</td>\n",
       "      <td>0.0</td>\n",
       "    </tr>\n",
       "    <tr>\n",
       "      <th>HiGH&amp;LOW g-sword</th>\n",
       "      <td>0.0</td>\n",
       "      <td>0.0</td>\n",
       "    </tr>\n",
       "    <tr>\n",
       "      <th>HiGH&amp;LOW g-sword OVA</th>\n",
       "      <td>0.0</td>\n",
       "      <td>0.0</td>\n",
       "    </tr>\n",
       "    <tr>\n",
       "      <th>Hiatari Ryoukou!</th>\n",
       "      <td>0.0</td>\n",
       "      <td>0.0</td>\n",
       "    </tr>\n",
       "    <tr>\n",
       "      <th>∞</th>\n",
       "      <td>0.0</td>\n",
       "      <td>0.0</td>\n",
       "    </tr>\n",
       "  </tbody>\n",
       "</table>\n",
       "<p>15657 rows × 2 columns</p>\n",
       "</div>"
      ],
      "text/plain": [
       "                                                    10     59265\n",
       "title                                                           \n",
       "Kill Bill Chapter 3: The Origin of O-Ren              0.0    5.0\n",
       "The Girl Who Leapt Through Time                       3.5    5.0\n",
       "Fullmetal Alchemist The Movie: Conqueror of Sha...    3.5    5.0\n",
       "The Disappearance of Haruhi Suzumiya                  4.0    5.0\n",
       "Cowboy Bebop                                          4.5    5.0\n",
       "...                                                   ...    ...\n",
       "Hi-sCool! Seha Girls Special                          0.0    0.0\n",
       "HiGH&LOW g-sword                                      0.0    0.0\n",
       "HiGH&LOW g-sword OVA                                  0.0    0.0\n",
       "Hiatari Ryoukou!                                      0.0    0.0\n",
       "∞                                                     0.0    0.0\n",
       "\n",
       "[15657 rows x 2 columns]"
      ]
     },
     "execution_count": 17,
     "metadata": {},
     "output_type": "execute_result"
    }
   ],
   "source": [
    "ds_titulos = pd.merge(df_compara, ds_vizinho, on='title').sort_values(by=viz_prox, ascending=False)\n",
    "ds_titulos"
   ]
  },
  {
   "cell_type": "markdown",
   "metadata": {},
   "source": [
    "Removendo as séries já assistidas pelo usuário 10, ou seja as que possuem nota, e deixando apenas as que têm postagem do usuário 59265 "
   ]
  },
  {
   "cell_type": "code",
   "execution_count": 18,
   "metadata": {},
   "outputs": [
    {
     "data": {
      "text/html": [
       "<div>\n",
       "<style scoped>\n",
       "    .dataframe tbody tr th:only-of-type {\n",
       "        vertical-align: middle;\n",
       "    }\n",
       "\n",
       "    .dataframe tbody tr th {\n",
       "        vertical-align: top;\n",
       "    }\n",
       "\n",
       "    .dataframe thead th {\n",
       "        text-align: right;\n",
       "    }\n",
       "</style>\n",
       "<table border=\"1\" class=\"dataframe\">\n",
       "  <thead>\n",
       "    <tr style=\"text-align: right;\">\n",
       "      <th></th>\n",
       "      <th>title</th>\n",
       "      <th>10</th>\n",
       "      <th>59265</th>\n",
       "    </tr>\n",
       "  </thead>\n",
       "  <tbody>\n",
       "    <tr>\n",
       "      <th>0</th>\n",
       "      <td>Kill Bill Chapter 3: The Origin of O-Ren</td>\n",
       "      <td>0.0</td>\n",
       "      <td>5.0</td>\n",
       "    </tr>\n",
       "    <tr>\n",
       "      <th>1</th>\n",
       "      <td>Gargantia on the Verdurous Planet</td>\n",
       "      <td>0.0</td>\n",
       "      <td>4.5</td>\n",
       "    </tr>\n",
       "    <tr>\n",
       "      <th>2</th>\n",
       "      <td>Neon Genesis Evangelion: The End of Evangelion</td>\n",
       "      <td>0.0</td>\n",
       "      <td>4.0</td>\n",
       "    </tr>\n",
       "    <tr>\n",
       "      <th>3</th>\n",
       "      <td>Silver Spoon</td>\n",
       "      <td>0.0</td>\n",
       "      <td>4.0</td>\n",
       "    </tr>\n",
       "    <tr>\n",
       "      <th>4</th>\n",
       "      <td>Anohana: The Flower We Saw That Day</td>\n",
       "      <td>0.0</td>\n",
       "      <td>4.0</td>\n",
       "    </tr>\n",
       "    <tr>\n",
       "      <th>5</th>\n",
       "      <td>Level E</td>\n",
       "      <td>0.0</td>\n",
       "      <td>3.5</td>\n",
       "    </tr>\n",
       "    <tr>\n",
       "      <th>6</th>\n",
       "      <td>The Eccentric Family</td>\n",
       "      <td>0.0</td>\n",
       "      <td>3.0</td>\n",
       "    </tr>\n",
       "  </tbody>\n",
       "</table>\n",
       "</div>"
      ],
      "text/plain": [
       "                                            title   10  59265\n",
       "0        Kill Bill Chapter 3: The Origin of O-Ren  0.0    5.0\n",
       "1               Gargantia on the Verdurous Planet  0.0    4.5\n",
       "2  Neon Genesis Evangelion: The End of Evangelion  0.0    4.0\n",
       "3                                    Silver Spoon  0.0    4.0\n",
       "4             Anohana: The Flower We Saw That Day  0.0    4.0\n",
       "5                                         Level E  0.0    3.5\n",
       "6                            The Eccentric Family  0.0    3.0"
      ]
     },
     "execution_count": 18,
     "metadata": {},
     "output_type": "execute_result"
    }
   ],
   "source": [
    "ds_titulos = ds_titulos[(ds_titulos[viz_prox] > 0) & (ds_titulos[user]==0)].reset_index()\n",
    "ds_titulos"
   ]
  },
  {
   "cell_type": "markdown",
   "metadata": {},
   "source": [
    "Retornando o top 5 séries com nota alta do vizinho mais próximo"
   ]
  },
  {
   "cell_type": "code",
   "execution_count": 19,
   "metadata": {},
   "outputs": [
    {
     "data": {
      "text/plain": [
       "0          Kill Bill Chapter 3: The Origin of O-Ren\n",
       "1                 Gargantia on the Verdurous Planet\n",
       "2    Neon Genesis Evangelion: The End of Evangelion\n",
       "3                                      Silver Spoon\n",
       "4               Anohana: The Flower We Saw That Day\n",
       "Name: title, dtype: object"
      ]
     },
     "execution_count": 19,
     "metadata": {},
     "output_type": "execute_result"
    }
   ],
   "source": [
    "# Recomendando os 5 animes com as maiores notas baseadas no vizinho\n",
    "ds_titulos.title[:5]"
   ]
  },
  {
   "cell_type": "markdown",
   "metadata": {},
   "source": [
    "### Conclusão"
   ]
  },
  {
   "cell_type": "markdown",
   "metadata": {},
   "source": [
    "Nosso objetivo foi apresentar um algoritmo de fácil implementação e que fosse efetivo. Ainda que pudessemos efetuar muitas melhorias em nosso algoritmo, efetuando um melhor ajuste nos hiperparametros atraves de um fine-tunning, ainda assim o algoritmo KNN foi capaz de retornar títulos coerentes com os assistidos pelo nosso usuário alvo. Ao efetuar uma busca pelos titulos percebemos que o usuário 10 deu notas para séries de gêneros váriados, como Ação, Ficção científica e Romance, e seriados com gêneros semelhantes foram ofertados como sugestão."
   ]
  },
  {
   "cell_type": "markdown",
   "metadata": {},
   "source": [
    "### Referencias\n",
    "\n",
    "COMO CRIAR SISTEMAS DE RECOMENDAÇÃO: \n",
    "https://www.youtube.com/watch?v=9tAU8fRgq2g&ab_channel=Ci%C3%AAnciadosDados\n",
    "\n",
    "Introdução a Sistemas de Recomendação - KNN: \n",
    "https://www.youtube.com/watch?v=Vkh2ay8hbbo&ab_channel=labbme_in\n"
   ]
  }
 ],
 "metadata": {
  "interpreter": {
   "hash": "3ee4da69d8e57504e44ba5ca489ae829cdc8e195074989e97fde58df049649b7"
  },
  "kernelspec": {
   "display_name": "Python 3.8.3 ('base')",
   "language": "python",
   "name": "python3"
  },
  "language_info": {
   "codemirror_mode": {
    "name": "ipython",
    "version": 3
   },
   "file_extension": ".py",
   "mimetype": "text/x-python",
   "name": "python",
   "nbconvert_exporter": "python",
   "pygments_lexer": "ipython3",
   "version": "3.8.3"
  },
  "orig_nbformat": 4
 },
 "nbformat": 4,
 "nbformat_minor": 2
}
